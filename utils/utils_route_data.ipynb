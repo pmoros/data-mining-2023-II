{
 "cells": [
  {
   "cell_type": "markdown",
   "metadata": {},
   "source": [
    "# Route Data Playground"
   ]
  },
  {
   "cell_type": "markdown",
   "metadata": {},
   "source": [
    "# Utils"
   ]
  },
  {
   "cell_type": "markdown",
   "metadata": {},
   "source": [
    "We are sampling the zone randomly for each route."
   ]
  },
  {
   "cell_type": "code",
   "execution_count": 16,
   "metadata": {},
   "outputs": [],
   "source": [
    "import json\n",
    "\n",
    "def extract_zone_id_prefix(json_data):\n",
    "    for route_data in json_data.values():\n",
    "        for item in route_data[\"stops\"].values():            \n",
    "            zone_id = item[\"zone_id\"]\n",
    "            if zone_id:\n",
    "                item[\"zone_id\"] = zone_id.split('.')[0]                        \n",
    "    return json_data\n",
    "\n",
    "def encode_stop_type(json_data):\n",
    "    # Extract unique \"type\" values and map them to integers, treating \"null\" as 0\n",
    "    type_mapping = {\"Dropoff\": 1, \"Station\": 2}\n",
    "    # Use nested maps to update \"type\" values\n",
    "    for route_data in json_data.values():\n",
    "        for item in route_data[\"stops\"].values():\n",
    "            item[\"type\"] = type_mapping.get(item.get(\"type\"), 0)\n",
    "    return json_data\n",
    "\n",
    "# Function to reshape the JSON data\n",
    "def reshape_json(data):\n",
    "    reshaped_data = []\n",
    "    for route_id, route_data in data.items():\n",
    "        row = {\n",
    "            \"RouteID\": route_id,\n",
    "            \"station_code\": route_data[\"station_code\"],\n",
    "            \"date_YYYY_MM_DD\": route_data[\"date_YYYY_MM_DD\"],\n",
    "            \"departure_time_utc\": route_data[\"departure_time_utc\"],\n",
    "            \"executor_capacity_cm3\": route_data[\"executor_capacity_cm3\"]\n",
    "        }\n",
    "        stops = route_data.get(\"stops\", {})\n",
    "        for stop_code, stop_info in stops.items():\n",
    "            row[stop_code] = stop_info.get(\"type\", \"\")\n",
    "            row[\"Zone\"] = stop_info.get(\"zone_id\", \"\")\n",
    "        reshaped_data.append(row)\n",
    "    return reshaped_data\n"
   ]
  },
  {
   "cell_type": "code",
   "execution_count": 17,
   "metadata": {},
   "outputs": [],
   "source": [
    "ROUTE_DATA_RAW_DATASET_PATH = \"../datasets/raw/eval_route_data_formatted.json\"\n",
    "ROUTE_DATA_PROCESSED_DATASET_PATH = \"../datasets/processed/eval_route_data_formatted.json\"\n",
    "\n",
    "with open(ROUTE_DATA_RAW_DATASET_PATH,\"r\") as eval_route:\n",
    "    data_eval_route = json.load(eval_route)"
   ]
  },
  {
   "cell_type": "code",
   "execution_count": 18,
   "metadata": {},
   "outputs": [],
   "source": [
    "eval_route_processed = extract_zone_id_prefix(data_eval_route)\n",
    "eval_route_processed = encode_stop_type(eval_route_processed)\n",
    "eval_route_processed = reshape_json(eval_route_processed)"
   ]
  },
  {
   "cell_type": "code",
   "execution_count": 19,
   "metadata": {},
   "outputs": [],
   "source": [
    "with open(ROUTE_DATA_PROCESSED_DATASET_PATH, 'w') as file:\n",
    "    json.dump(eval_route_processed, file, indent=4)"
   ]
  }
 ],
 "metadata": {
  "kernelspec": {
   "display_name": "venv",
   "language": "python",
   "name": "python3"
  },
  "language_info": {
   "codemirror_mode": {
    "name": "ipython",
    "version": 3
   },
   "file_extension": ".py",
   "mimetype": "text/x-python",
   "name": "python",
   "nbconvert_exporter": "python",
   "pygments_lexer": "ipython3",
   "version": "3.11.4"
  },
  "orig_nbformat": 4
 },
 "nbformat": 4,
 "nbformat_minor": 2
}
