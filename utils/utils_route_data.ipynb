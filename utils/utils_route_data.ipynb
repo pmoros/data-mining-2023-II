{
 "cells": [
  {
   "cell_type": "markdown",
   "metadata": {},
   "source": [
    "# Route Data Playground"
   ]
  },
  {
   "cell_type": "markdown",
   "metadata": {},
   "source": [
    "# Utils"
   ]
  },
  {
   "cell_type": "code",
   "execution_count": 12,
   "metadata": {},
   "outputs": [],
   "source": [
    "import json\n",
    "\n",
    "def extract_zone_id_prefix(json_data):\n",
    "    for route_data in json_data.values():\n",
    "        for item in route_data[\"stops\"].values():            \n",
    "            zone_id = item[\"zone_id\"]\n",
    "            if zone_id:\n",
    "                item[\"zone_id\"] = zone_id.split('.')[0]                        \n",
    "    return json_data\n",
    "\n",
    "def encode_stop_type(json_data):\n",
    "    # Extract unique \"type\" values and map them to integers, treating \"null\" as 0\n",
    "    type_mapping = {\"Dropoff\": 1, \"Station\": 2}\n",
    "    # Use nested maps to update \"type\" values\n",
    "    for route_data in json_data.values():\n",
    "        for item in route_data[\"stops\"].values():\n",
    "            item[\"type\"] = type_mapping.get(item.get(\"type\"), 0)\n",
    "    return json_data\n",
    "\n",
    "# Function to reshape the JSON data\n",
    "def reshape_json(data):\n",
    "    reshaped_data = []\n",
    "    for route_id, route_data in data.items():\n",
    "        row = {\n",
    "            \"RouteID\": route_id,\n",
    "            \"station_code\": route_data[\"station_code\"],\n",
    "            \"date_YYYY_MM_DD\": route_data[\"date_YYYY_MM_DD\"],\n",
    "            \"departure_time_utc\": route_data[\"departure_time_utc\"],\n",
    "            \"executor_capacity_cm3\": route_data[\"executor_capacity_cm3\"]\n",
    "        }\n",
    "        stops = route_data.get(\"stops\", {})\n",
    "        for stop_code, stop_info in stops.items():\n",
    "            row[stop_code] = stop_info.get(\"type\", \"\")\n",
    "            row[\"Zone\"] = stop_info.get(\"zone_id\", \"\")\n",
    "        reshaped_data.append(row)\n",
    "    return reshaped_data\n"
   ]
  },
  {
   "cell_type": "code",
   "execution_count": 13,
   "metadata": {},
   "outputs": [],
   "source": [
    "ROUTE_DATA_RAW_DATASET_PATH = \"../datasets/raw/eval_route_data_formatted.json\"\n",
    "ROUTE_DATA_PROCESSED_DATASET_PATH = \"../datasets/processed/eval_route_data_formatted.json\"\n",
    "\n",
    "with open(ROUTE_DATA_RAW_DATASET_PATH,\"r\") as eval_route:\n",
    "    data_eval_route = json.load(eval_route)"
   ]
  },
  {
   "cell_type": "code",
   "execution_count": 14,
   "metadata": {},
   "outputs": [
    {
     "ename": "KeyError",
     "evalue": "0",
     "output_type": "error",
     "traceback": [
      "\u001b[0;31m---------------------------------------------------------------------------\u001b[0m",
      "\u001b[0;31mKeyError\u001b[0m                                  Traceback (most recent call last)",
      "\u001b[1;32m/home/pmoros/sandbox/university/data-mining/data-mining-2023-II/utils/utils_route_data.ipynb Cell 5\u001b[0m line \u001b[0;36m1\n\u001b[0;32m----> <a href='vscode-notebook-cell:/home/pmoros/sandbox/university/data-mining/data-mining-2023-II/utils/utils_route_data.ipynb#W4sZmlsZQ%3D%3D?line=0'>1</a>\u001b[0m eval_route_processed \u001b[39m=\u001b[39m extract_zone_id_prefix(data_eval_route)\n\u001b[1;32m      <a href='vscode-notebook-cell:/home/pmoros/sandbox/university/data-mining/data-mining-2023-II/utils/utils_route_data.ipynb#W4sZmlsZQ%3D%3D?line=1'>2</a>\u001b[0m eval_route_processed \u001b[39m=\u001b[39m encode_stop_type(eval_route_processed)\n\u001b[1;32m      <a href='vscode-notebook-cell:/home/pmoros/sandbox/university/data-mining/data-mining-2023-II/utils/utils_route_data.ipynb#W4sZmlsZQ%3D%3D?line=2'>3</a>\u001b[0m eval_route_processed \u001b[39m=\u001b[39m reshape_json(eval_route_processed)\n",
      "\u001b[1;32m/home/pmoros/sandbox/university/data-mining/data-mining-2023-II/utils/utils_route_data.ipynb Cell 5\u001b[0m line \u001b[0;36m5\n\u001b[1;32m      <a href='vscode-notebook-cell:/home/pmoros/sandbox/university/data-mining/data-mining-2023-II/utils/utils_route_data.ipynb#W4sZmlsZQ%3D%3D?line=2'>3</a>\u001b[0m \u001b[39mdef\u001b[39;00m \u001b[39mextract_zone_id_prefix\u001b[39m(json_data):\n\u001b[1;32m      <a href='vscode-notebook-cell:/home/pmoros/sandbox/university/data-mining/data-mining-2023-II/utils/utils_route_data.ipynb#W4sZmlsZQ%3D%3D?line=3'>4</a>\u001b[0m     \u001b[39mfor\u001b[39;00m route_data \u001b[39min\u001b[39;00m json_data\u001b[39m.\u001b[39mvalues():\n\u001b[0;32m----> <a href='vscode-notebook-cell:/home/pmoros/sandbox/university/data-mining/data-mining-2023-II/utils/utils_route_data.ipynb#W4sZmlsZQ%3D%3D?line=4'>5</a>\u001b[0m         sample_stop \u001b[39m=\u001b[39m route_data[\u001b[39m\"\u001b[39;49m\u001b[39mstops\u001b[39;49m\u001b[39m\"\u001b[39;49m][\u001b[39m0\u001b[39;49m]\n\u001b[1;32m      <a href='vscode-notebook-cell:/home/pmoros/sandbox/university/data-mining/data-mining-2023-II/utils/utils_route_data.ipynb#W4sZmlsZQ%3D%3D?line=5'>6</a>\u001b[0m         zone_id \u001b[39m=\u001b[39m sample_stop\u001b[39m.\u001b[39mget(\u001b[39m\"\u001b[39m\u001b[39mzone_id\u001b[39m\u001b[39m\"\u001b[39m, \u001b[39m\"\u001b[39m\u001b[39m\"\u001b[39m)        \n\u001b[1;32m      <a href='vscode-notebook-cell:/home/pmoros/sandbox/university/data-mining/data-mining-2023-II/utils/utils_route_data.ipynb#W4sZmlsZQ%3D%3D?line=6'>7</a>\u001b[0m         sample_stop[\u001b[39m\"\u001b[39m\u001b[39mzone_id\u001b[39m\u001b[39m\"\u001b[39m] \u001b[39m=\u001b[39m zone_id\u001b[39m.\u001b[39msplit(\u001b[39m'\u001b[39m\u001b[39m.\u001b[39m\u001b[39m'\u001b[39m)[\u001b[39m0\u001b[39m]\n",
      "\u001b[0;31mKeyError\u001b[0m: 0"
     ]
    }
   ],
   "source": [
    "eval_route_processed = extract_zone_id_prefix(data_eval_route)\n",
    "eval_route_processed = encode_stop_type(eval_route_processed)\n",
    "eval_route_processed = reshape_json(eval_route_processed)"
   ]
  },
  {
   "cell_type": "code",
   "execution_count": 15,
   "metadata": {},
   "outputs": [],
   "source": [
    "with open(ROUTE_DATA_PROCESSED_DATASET_PATH, 'w') as file:\n",
    "    json.dump(eval_route_processed, file, indent=4)"
   ]
  }
 ],
 "metadata": {
  "kernelspec": {
   "display_name": "venv",
   "language": "python",
   "name": "python3"
  },
  "language_info": {
   "codemirror_mode": {
    "name": "ipython",
    "version": 3
   },
   "file_extension": ".py",
   "mimetype": "text/x-python",
   "name": "python",
   "nbconvert_exporter": "python",
   "pygments_lexer": "ipython3",
   "version": "3.11.4"
  },
  "orig_nbformat": 4
 },
 "nbformat": 4,
 "nbformat_minor": 2
}
