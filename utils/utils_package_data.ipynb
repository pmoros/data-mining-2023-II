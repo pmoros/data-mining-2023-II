{
 "cells": [
  {
   "cell_type": "markdown",
   "metadata": {},
   "source": [
    "# Package Data Playground"
   ]
  },
  {
   "cell_type": "markdown",
   "metadata": {},
   "source": [
    "# Utils"
   ]
  },
  {
   "cell_type": "markdown",
   "metadata": {},
   "source": [
    "We are sampling the zone randomly for each route."
   ]
  },
  {
   "cell_type": "code",
   "execution_count": 9,
   "metadata": {},
   "outputs": [],
   "source": [
    "import json\n",
    "\n",
    "# Function to reshape the JSON data\n",
    "def reshape_json(data):\n",
    "    reshaped_data = []\n",
    "    for route_id, route_data in data.items():\n",
    "        for stop_id, stop_data in route_data.items():\n",
    "            for package_id, package_data in stop_data.items():\n",
    "                row = {\n",
    "                    \"RouteID\": route_id,\n",
    "                    \"StopID\": stop_id,\n",
    "                    \"PackageID\": package_id,\n",
    "                    \"start_time_utc\": package_data[\"time_window\"][\"start_time_utc\"],\n",
    "                    \"end_time_utc\": package_data[\"time_window\"][\"end_time_utc\"],\n",
    "                    \"planned_service_time_seconds\": package_data[\"planned_service_time_seconds\"],\n",
    "                    \"depth_cm\": package_data[\"dimensions\"][\"depth_cm\"],\n",
    "                    \"height_cm\": package_data[\"dimensions\"][\"height_cm\"],\n",
    "                    \"weight_cm\": package_data[\"dimensions\"][\"width_cm\"]\n",
    "                }        \n",
    "                reshaped_data.append(row)\n",
    "\n",
    "    return reshaped_data\n"
   ]
  },
  {
   "cell_type": "code",
   "execution_count": 10,
   "metadata": {},
   "outputs": [],
   "source": [
    "PACKAGE_DATA_RAW_DATASET_PATH = \"../datasets/raw/eval_package_data_formatted.json\"\n",
    "PACKAGE_DATA_PROCESSED_DATASET_PATH = \"../datasets/processed/eval_package_data_formatted.json\"\n",
    "\n",
    "with open(PACKAGE_DATA_RAW_DATASET_PATH,\"r\") as eval_route:\n",
    "    package_data = json.load(eval_route)"
   ]
  },
  {
   "cell_type": "code",
   "execution_count": 11,
   "metadata": {},
   "outputs": [],
   "source": [
    "package_data_processed = reshape_json(package_data)"
   ]
  },
  {
   "cell_type": "code",
   "execution_count": 12,
   "metadata": {},
   "outputs": [],
   "source": [
    "with open(PACKAGE_DATA_PROCESSED_DATASET_PATH, 'w') as file:\n",
    "    json.dump(package_data_processed, file, indent=4)"
   ]
  }
 ],
 "metadata": {
  "kernelspec": {
   "display_name": "venv",
   "language": "python",
   "name": "python3"
  },
  "language_info": {
   "codemirror_mode": {
    "name": "ipython",
    "version": 3
   },
   "file_extension": ".py",
   "mimetype": "text/x-python",
   "name": "python",
   "nbconvert_exporter": "python",
   "pygments_lexer": "ipython3",
   "version": "3.11.4"
  },
  "orig_nbformat": 4
 },
 "nbformat": 4,
 "nbformat_minor": 2
}
